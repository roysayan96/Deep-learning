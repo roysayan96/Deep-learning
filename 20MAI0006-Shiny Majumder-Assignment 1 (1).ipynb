{
 "cells": [
  {
   "cell_type": "markdown",
   "id": "incoming-hierarchy",
   "metadata": {},
   "source": [
    "<b>Exercise – 1. Evaluation of Performance metric for a Classification Problem</b>\n",
    "\n",
    "Write a python code to display confusion matrix and to calculate the performance metrics like \n",
    "Recall, Precesion, F1score and accuracy. You create synthetic Ground truth values and Predictions"
   ]
  },
  {
   "cell_type": "code",
   "execution_count": 109,
   "id": "sporting-classroom",
   "metadata": {},
   "outputs": [],
   "source": [
    "#initilializing the array\n",
    "\n",
    "import numpy as np\n",
    "X = np.array([.50,1.50,2.00,4.25,3.25,5.50], ndmin=2).reshape((6,1))\n",
    "y = np.array([1,0,0,1,1,1])\n",
    "X_mean = np.mean(X)\n",
    "y_mean = np.mean(y)\n",
    "n = len(X)"
   ]
  },
  {
   "cell_type": "code",
   "execution_count": 110,
   "id": "israeli-mobility",
   "metadata": {},
   "outputs": [
    {
     "data": {
      "text/plain": [
       "array([0, 0, 1, 1, 1, 1])"
      ]
     },
     "execution_count": 110,
     "metadata": {},
     "output_type": "execute_result"
    }
   ],
   "source": [
    "#logistic regression\n",
    "\n",
    "from sklearn.linear_model import LogisticRegression\n",
    "lr = LogisticRegression(penalty='none')\n",
    "lr.fit(X, y)\n",
    "y_pred = lr.predict(X)\n",
    "y_pred"
   ]
  },
  {
   "cell_type": "code",
   "execution_count": 111,
   "id": "vocal-information",
   "metadata": {},
   "outputs": [
    {
     "data": {
      "text/plain": [
       "array([[1, 1],\n",
       "       [1, 3]], dtype=int64)"
      ]
     },
     "execution_count": 111,
     "metadata": {},
     "output_type": "execute_result"
    }
   ],
   "source": [
    "#confusion matrix\n",
    "\n",
    "from sklearn.metrics import confusion_matrix\n",
    "confusion_matrix(y, y_pred)\n"
   ]
  },
  {
   "cell_type": "markdown",
   "id": "polish-consciousness",
   "metadata": {},
   "source": [
    "<b>#classification report for precision, recall, f1-score and accuracy</b>"
   ]
  },
  {
   "cell_type": "code",
   "execution_count": 112,
   "id": "concrete-consideration",
   "metadata": {},
   "outputs": [
    {
     "data": {
      "text/plain": [
       "0.75"
      ]
     },
     "execution_count": 112,
     "metadata": {},
     "output_type": "execute_result"
    }
   ],
   "source": [
    "#finding precision\n",
    "\n",
    "from sklearn.metrics import accuracy_score, precision_score, recall_score, f1_score\n",
    "precision_score(y,y_pred)"
   ]
  },
  {
   "cell_type": "code",
   "execution_count": 113,
   "id": "thrown-treasury",
   "metadata": {},
   "outputs": [
    {
     "data": {
      "text/plain": [
       "0.6666666666666666"
      ]
     },
     "execution_count": 113,
     "metadata": {},
     "output_type": "execute_result"
    }
   ],
   "source": [
    "#finding accuracy\n",
    "\n",
    "accuracy_score(y,y_pred)"
   ]
  },
  {
   "cell_type": "code",
   "execution_count": 114,
   "id": "liberal-field",
   "metadata": {},
   "outputs": [
    {
     "data": {
      "text/plain": [
       "0.75"
      ]
     },
     "execution_count": 114,
     "metadata": {},
     "output_type": "execute_result"
    }
   ],
   "source": [
    "#finding recall\n",
    "\n",
    "recall_score(y,y_pred)"
   ]
  },
  {
   "cell_type": "code",
   "execution_count": 115,
   "id": "completed-single",
   "metadata": {},
   "outputs": [
    {
     "data": {
      "text/plain": [
       "0.75"
      ]
     },
     "execution_count": 115,
     "metadata": {},
     "output_type": "execute_result"
    }
   ],
   "source": [
    "#finding f1_score\n",
    "\n",
    "f1_score(y,y_pred)"
   ]
  },
  {
   "cell_type": "code",
   "execution_count": null,
   "id": "biblical-recycling",
   "metadata": {},
   "outputs": [],
   "source": []
  }
 ],
 "metadata": {
  "kernelspec": {
   "display_name": "Python 3",
   "language": "python",
   "name": "python3"
  },
  "language_info": {
   "codemirror_mode": {
    "name": "ipython",
    "version": 3
   },
   "file_extension": ".py",
   "mimetype": "text/x-python",
   "name": "python",
   "nbconvert_exporter": "python",
   "pygments_lexer": "ipython3",
   "version": "3.9.2"
  }
 },
 "nbformat": 4,
 "nbformat_minor": 5
}
